{
 "cells": [
  {
   "cell_type": "markdown",
   "id": "9bd58c3f",
   "metadata": {},
   "source": [
    "# B1"
   ]
  },
  {
   "cell_type": "code",
   "execution_count": 1,
   "id": "7082fe69",
   "metadata": {},
   "outputs": [
    {
     "name": "stdout",
     "output_type": "stream",
     "text": [
      "Van ban ma hoa: b'\\x07\\xfa\\x17f\\x1c\\x1d%\\xd9\\x08\\xfdS\\xd4\\x93\\xaa\\xfdj\\xf9\\xa8K5\\x8b\\xfd[`F\\xab\\xb0\\xa3e\\x00(q'\n",
      "Thoi gian ma hoa AES: 0.0 giay\n",
      "Van ban giai ma(AES): Hello, this is a test message!\n",
      "Thoi gian giai ma AES: 0.0 giay\n"
     ]
    }
   ],
   "source": [
    "from Crypto.Cipher import AES\n",
    "from Crypto.Random import get_random_bytes\n",
    "from Crypto.Util.Padding import pad, unpad\n",
    "import time\n",
    "\n",
    "Key = get_random_bytes(16)  # AES key must be either 16, 24, or 32 bytes long\n",
    "cipher = AES.new(Key, AES.MODE_CBC)  # Create a new AES cipher object\n",
    "\n",
    "plaintext = b'Hello, this is a test message!'  # Example plaintext\n",
    "\n",
    "start_time = time.time()  # Start time for encryption\n",
    "ciphertext = cipher.encrypt(pad(plaintext, AES.block_size))  # Encrypt the plaintext\n",
    "end_time = time.time()  # End time for encryption\n",
    "aes_encryption_time = end_time - start_time  # Calculate encryption time\n",
    "\n",
    "print(\"Van ban ma hoa:\", ciphertext)\n",
    "print(\"Thoi gian ma hoa AES:\", aes_encryption_time, \"giay\")\n",
    "\n",
    "start_time = time.time()  # Start time for decryption\n",
    "decipher = AES.new(Key, AES.MODE_CBC, cipher.iv)  # Create a new AES cipher object for decryption\n",
    "decrypted_text = unpad(decipher.decrypt(ciphertext), AES.block_size)  # Decrypt the ciphertext\n",
    "end_time = time.time()  # End time for decryption\n",
    "aes_encryption_time = end_time - start_time  # Calculate decryption time\n",
    "\n",
    "print(\"Van ban giai ma(AES):\", decrypted_text.decode())\n",
    "print(\"Thoi gian giai ma AES:\", aes_encryption_time, \"giay\")"
   ]
  },
  {
   "cell_type": "markdown",
   "id": "5b5cf4fa",
   "metadata": {},
   "source": [
    "# B2 "
   ]
  },
  {
   "cell_type": "code",
   "execution_count": 2,
   "id": "e72e3703",
   "metadata": {},
   "outputs": [
    {
     "name": "stdout",
     "output_type": "stream",
     "text": [
      " khoa AES duoc ma hoa: b'\\xda4\\xd4\\xa4\\xcc\\xfc\\xa2V%\\tYu\\xe4|\\xaa\\xfe\\x86\\xf8\\xfc\\x0b]\\xf0\\x9f\\x93\\xa7]0t;\\xc6\\x95N\\xc8\\xa2eB\\r\\x13\\xd5\\xd3\\xcfm/\\x14-\\x11C$.\\x0c\"\\x1e\\xfc-Z\\x0e\\xd3\\xd5\\xf6\\x81\\xf9\\xdc\\x93\\x07\\xf401\\x8c\\xfd;Y\\xe3k\\xf4i\\xd6\\x10\\xe2b-\\xe7\\x08=Y\\xe0\\xa8\\x1c?\\x08\\xd5?\\rh\\x101\\x90\\xaf\\xa0\\x11K`\\x9b\\x8a\\xdb%\\xfc\\xf6gu\\xc5q\\xd6mkF\\x84\\xb2}\\xf4\\x80\\xa7\\xcf+!\\xdcSiy/\\x98\\xe9]\\x82kU9\\x9d\\xd0m\\x0f \\xdc\\x81Nd\\xba)\\x00\\xa6\\xf3\\x91\\xfa\\r~\\xf5\\x08\\x0f*\\xf19\\xd2\\xe5\\x90\\xf3p\\xc3\\x1f\\x9e:K\\x11ad\\x04i\\xba@\\x1d$\\x1d\\xe549l\\xbe\\xdeUY\\xbe\\xae\\xec\\x1e\\xf9\\xd6\\x81o\\xee}F\\x16D\\x84\\x10\\xe4J\\x07\\xe1 \\x8e\\xa6\\xcc\\xfeu\\xe0\\xeb\\xd0\\x9c\\x93\\xebt\\xeb\\xfc\\xa8\\xc6\\x12\\xf6\\x18\\xec\\xda\\xf9i\\xa4Q\\xea\\xc1z\\xd0\\xc2\\xd0\\x14~\\x919F\\x1f\\\\GQ[\\x861}.`J\\xd9'\n",
      "Thoi gian ma hoa RSA: 0.0 giay\n",
      "Khoa AES giai ma: b'\\xc8B\\xfb\\xe1\\x1b\\xefX\\xb2\\xb9r\\xfd\\xb6\\xd6S\\xf52'\n",
      "Thoi gian giai ma RSA: 0.0 giay\n"
     ]
    }
   ],
   "source": [
    "from Crypto.PublicKey import RSA\n",
    "from Crypto.Cipher import PKCS1_OAEP\n",
    "from Crypto.Random import get_random_bytes\n",
    "import time\n",
    "\n",
    "key = RSA.generate(2048)  # Generate a new RSA key pair\n",
    "private_key = key.export_key()  # Export the private key\n",
    "public_key = key.publickey().export_key()  # Export the public key\n",
    "\n",
    "aes_key = get_random_bytes(16)  # Generate a random AES key\n",
    "cipher_rsa = PKCS1_OAEP.new(RSA.import_key(public_key))  # Create a new RSA cipher object\n",
    "\n",
    "start_time = time.time()  # Start time for encryption\n",
    "encrypted_aes_key = cipher_rsa.encrypt(aes_key)  # Encrypt the AES key with RSA\n",
    "end_time = time.time()  # End time for encryption\n",
    "rsa_encryption_time = end_time - start_time  # Calculate encryption time\n",
    "\n",
    "print(\" khoa AES duoc ma hoa:\", encrypted_aes_key)\n",
    "print(\"Thoi gian ma hoa RSA:\", rsa_encryption_time, \"giay\")\n",
    "\n",
    "decipher_rsa = PKCS1_OAEP.new(RSA.import_key(private_key))  # Create a new RSA cipher object for decryption\n",
    "\n",
    "start_time = time.time()  # Start time for decryption\n",
    "decrypted_aes_key = decipher_rsa.decrypt(encrypted_aes_key)  # Decrypt the AES key with RSA\n",
    "end_time = time.time()  # End time for decryption\n",
    "rsa_decryption_time = end_time - start_time  # Calculate decryption time\n",
    "\n",
    "print(\"Khoa AES giai ma:\", decrypted_aes_key)\n",
    "print(\"Thoi gian giai ma RSA:\", rsa_decryption_time, \"giay\")\n"
   ]
  },
  {
   "cell_type": "markdown",
   "id": "092f2702",
   "metadata": {},
   "source": [
    "# B3 "
   ]
  },
  {
   "cell_type": "code",
   "execution_count": 3,
   "id": "80efa93e",
   "metadata": {},
   "outputs": [
    {
     "name": "stdout",
     "output_type": "stream",
     "text": [
      "Khóa AES sau khi giải mã: b'\\xc8B\\xfb\\xe1\\x1b\\xefX\\xb2\\xb9r\\xfd\\xb6\\xd6S\\xf52'\n",
      "Thời gian giải mã RSA: 0.0 giây\n"
     ]
    }
   ],
   "source": [
    "from Crypto.PublicKey import RSA\n",
    "from Crypto.Cipher import PKCS1_OAEP\n",
    "\n",
    "# Tạo cặp khóa RSA\n",
    "key = RSA.generate(2048)\n",
    "private_key = key.export_key()\n",
    "public_key = key.publickey().export_key()\n",
    "\n",
    "# Mã hóa khóa AES bằng khóa công khai RSA và đo thời gian\n",
    "aes_key = get_random_bytes(16)\n",
    "cipher_rsa = PKCS1_OAEP.new(RSA.import_key(public_key))\n",
    "\n",
    "start_time = time.time()\n",
    "\n",
    "print(\"Khóa AES sau khi giải mã:\", decrypted_aes_key)\n",
    "print(\"Thời gian giải mã RSA:\", rsa_decryption_time, \"giây\")"
   ]
  }
 ],
 "metadata": {
  "kernelspec": {
   "display_name": "base",
   "language": "python",
   "name": "python3"
  },
  "language_info": {
   "codemirror_mode": {
    "name": "ipython",
    "version": 3
   },
   "file_extension": ".py",
   "mimetype": "text/x-python",
   "name": "python",
   "nbconvert_exporter": "python",
   "pygments_lexer": "ipython3",
   "version": "3.12.7"
  }
 },
 "nbformat": 4,
 "nbformat_minor": 5
}
