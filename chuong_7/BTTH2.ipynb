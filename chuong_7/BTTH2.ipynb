{
 "cells": [
  {
   "cell_type": "markdown",
   "id": "9af17fcf",
   "metadata": {},
   "source": [
    "# Bài 1: "
   ]
  },
  {
   "cell_type": "code",
   "execution_count": 3,
   "id": "26766bee",
   "metadata": {},
   "outputs": [
    {
     "name": "stdout",
     "output_type": "stream",
     "text": [
      "Xác thực thành công!\n",
      "5994471abb01112afcc18159f6cc74b4f511b99806da59b3caf5a9c173cacfc5\n"
     ]
    }
   ],
   "source": [
    "import hashlib\n",
    "\n",
    "stored_password = hashlib.sha256(b\"12345\").hexdigest()\n",
    "\n",
    "password = input(\"Nhập mật khẩu: \")\n",
    "hashed_password = hashlib.sha256(password.encode()).hexdigest()\n",
    "if hashed_password == stored_password:\n",
    "    print(\"Xác thực thành công!\")\n",
    "    print(stored_password)\n",
    "else:\n",
    "    print(\"Xác thực thất bại!\")"
   ]
  },
  {
   "cell_type": "markdown",
   "id": "8d0a61c6",
   "metadata": {},
   "source": [
    "# Bài 2: "
   ]
  },
  {
   "cell_type": "code",
   "execution_count": 6,
   "id": "d9e41ec1",
   "metadata": {},
   "outputs": [
    {
     "name": "stdout",
     "output_type": "stream",
     "text": [
      "Mã OTP của bạn là: 452193\n"
     ]
    },
    {
     "name": "stdout",
     "output_type": "stream",
     "text": [
      "Xác thực thành công!\n"
     ]
    }
   ],
   "source": [
    "import pyotp\n",
    "import time\n",
    "# Tạo khóa bí mật và mã OTP\n",
    "secret = pyotp.random_base32()\n",
    "totp = pyotp.TOTP(secret)\n",
    "print(\"Mã OTP của bạn là:\", totp.now())\n",
    "# Yêu cầu nhập mã OTP\n",
    "otp_input = input(\"Nhập mã OTP: \")\n",
    "if totp.verify(otp_input):\n",
    "    print(\"Xác thực thành công!\")\n",
    "else:\n",
    "    print(\"Xác thực thất bại!\")\n"
   ]
  },
  {
   "cell_type": "markdown",
   "id": "93a77c0d",
   "metadata": {},
   "source": [
    "# Bài 3:"
   ]
  },
  {
   "cell_type": "code",
   "execution_count": null,
   "id": "2c3139fd",
   "metadata": {},
   "outputs": [
    {
     "name": "stdout",
     "output_type": "stream",
     "text": [
      "Xác thực mật khẩu thành công! Chuyển sang bước xác thực bằng mã OTP.\n",
      "Mã OTP của bạn là: 255106\n",
      "Xác thực bước 2, mã OTP thất bại!\n"
     ]
    },
    {
     "ename": "",
     "evalue": "",
     "output_type": "error",
     "traceback": [
      "\u001b[1;31mThe Kernel crashed while executing code in the current cell or a previous cell. \n",
      "\u001b[1;31mPlease review the code in the cell(s) to identify a possible cause of the failure. \n",
      "\u001b[1;31mClick <a href='https://aka.ms/vscodeJupyterKernelCrash'>here</a> for more info. \n",
      "\u001b[1;31mView Jupyter <a href='command:jupyter.viewOutput'>log</a> for further details."
     ]
    }
   ],
   "source": [
    "import hashlib\n",
    "import pyotp\n",
    "import time\n",
    "# Bước 1: Xác thực bằng mật khẩu\n",
    "stored_password = hashlib.sha256(b\"12345\").hexdigest() # \n",
    "password = input(\"Nhập mật khẩu: \")\n",
    "hashed_password = hashlib.sha256(password.encode()).hexdigest()\n",
    "if hashed_password == stored_password:\n",
    "    print(\"Xác thực mật khẩu thành công! Chuyển sang bước xác thực bằng mã OTP.\")\n",
    "else:\n",
    "    print(\"Xác thực mật khẩu thất bại!\")\n",
    "exit() # Thoát chương trình nếu sai mật khẩu\n",
    "# Bước 2: Xác thực bằng mã OTP nếu mật khẩu đúng\n",
    "# Tạo khóa bí mật và mã OTP\n",
    "secret = pyotp.random_base32()\n",
    "totp = pyotp.TOTP(secret)\n",
    "# In mã OTP (trong thực tế sẽ được gửi qua SMS hoặc Email)\n",
    "print(\"Mã OTP của bạn là:\", totp.now())\n",
    "# Yêu cầu người dùng nhập mã OTP\n",
    "otp_input = input(\"Nhập mã OTP: \")\n",
    "if totp.verify(otp_input):\n",
    "    print(\"Xác thực hai yếu tố thành công!\")\n",
    "else:\n",
    "    print(\"Xác thực bước 2, mã OTP thất bại!\")\n"
   ]
  }
 ],
 "metadata": {
  "kernelspec": {
   "display_name": "base",
   "language": "python",
   "name": "python3"
  },
  "language_info": {
   "codemirror_mode": {
    "name": "ipython",
    "version": 3
   },
   "file_extension": ".py",
   "mimetype": "text/x-python",
   "name": "python",
   "nbconvert_exporter": "python",
   "pygments_lexer": "ipython3",
   "version": "3.12.7"
  }
 },
 "nbformat": 4,
 "nbformat_minor": 5
}
