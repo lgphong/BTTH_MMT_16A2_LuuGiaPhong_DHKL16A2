{
 "cells": [
  {
   "cell_type": "markdown",
   "id": "7c3a24ff",
   "metadata": {},
   "source": [
    "# Bài 1: Viết chương trình Python để mô phỏng một chuỗi Blockchain gồm 3 khối. Mỗi khối chứa một thông điệp và mã băm (hash) của khối trước."
   ]
  },
  {
   "cell_type": "code",
   "execution_count": 1,
   "id": "4f298302",
   "metadata": {},
   "outputs": [
    {
     "name": "stdout",
     "output_type": "stream",
     "text": [
      "Block 1:\n",
      "Message: Khối đầu tiên - Genesis\n",
      "Timestamp: 2025-06-01 21:04:25.703374\n",
      "Previous Hash: \n",
      "Hash: fa1f5e42243a49a3d35c5e1738dc25be401169c33da305c05538ed7c257d6a02\n",
      "\n",
      "Block 2:\n",
      "Message: Khối thứ hai\n",
      "Timestamp: 2025-06-01 21:04:25.703374\n",
      "Previous Hash: fa1f5e42243a49a3d35c5e1738dc25be401169c33da305c05538ed7c257d6a02\n",
      "Hash: 40a1f36e6a39cb97fc3ea83ee725c98f7decb1e8680e91d1e2cfe24d7926c6fc\n",
      "\n",
      "Block 3:\n",
      "Message: Khối thứ ba\n",
      "Timestamp: 2025-06-01 21:04:25.703374\n",
      "Previous Hash: 40a1f36e6a39cb97fc3ea83ee725c98f7decb1e8680e91d1e2cfe24d7926c6fc\n",
      "Hash: 846945a2d31f1b03c100fd29cf9749f4227a9a753836809ed949f9c25bb6c045\n",
      "\n",
      " Thay đổi thông điệp khối 2...\n",
      "\n",
      "Block 1:\n",
      "Message: Khối đầu tiên - Genesis\n",
      "Timestamp: 2025-06-01 21:04:25.703374\n",
      "Previous Hash: \n",
      "Hash: fa1f5e42243a49a3d35c5e1738dc25be401169c33da305c05538ed7c257d6a02\n",
      "\n",
      "Block 2:\n",
      "Message: Khối thứ hai đã bị thay đổi\n",
      "Timestamp: 2025-06-01 21:04:25.703374\n",
      "Previous Hash: fa1f5e42243a49a3d35c5e1738dc25be401169c33da305c05538ed7c257d6a02\n",
      "Hash: 2081e2b78c6142b62412071af44875befb602699ec9b6d33fd8471ce476dc5da\n",
      "\n",
      "Block 3:\n",
      "Message: Khối thứ ba\n",
      "Timestamp: 2025-06-01 21:04:25.703374\n",
      "Previous Hash: 40a1f36e6a39cb97fc3ea83ee725c98f7decb1e8680e91d1e2cfe24d7926c6fc\n",
      "Hash: 846945a2d31f1b03c100fd29cf9749f4227a9a753836809ed949f9c25bb6c045\n",
      "\n"
     ]
    }
   ],
   "source": [
    "import hashlib\n",
    "import datetime\n",
    "\n",
    "class Block:\n",
    "    def __init__(self, message, previous_hash=''):\n",
    "        self.timestamp = str(datetime.datetime.now())\n",
    "        self.message = message\n",
    "        self.previous_hash = previous_hash\n",
    "        self.hash = self.calculate_hash()\n",
    "\n",
    "    def calculate_hash(self):\n",
    "        data = self.timestamp + self.message + self.previous_hash\n",
    "        return hashlib.sha256(data.encode()).hexdigest()\n",
    "\n",
    "    def __str__(self):\n",
    "        return (f\"Message: {self.message}\\n\"\n",
    "                f\"Timestamp: {self.timestamp}\\n\"\n",
    "                f\"Previous Hash: {self.previous_hash}\\n\"\n",
    "                f\"Hash: {self.hash}\\n\")\n",
    "\n",
    "\n",
    "blockchain = []\n",
    "genesis_block = Block(\"Khối đầu tiên - Genesis\")\n",
    "blockchain.append(genesis_block)\n",
    "\n",
    "second_block = Block(\"Khối thứ hai\", genesis_block.hash)\n",
    "blockchain.append(second_block)\n",
    "\n",
    "third_block = Block(\"Khối thứ ba\", second_block.hash)\n",
    "blockchain.append(third_block)\n",
    "\n",
    "\n",
    "for i, block in enumerate(blockchain):\n",
    "    print(f\"Block {i + 1}:\\n{block}\")\n",
    "\n",
    "\n",
    "print(\" Thay đổi thông điệp khối 2...\\n\")\n",
    "blockchain[1].message = \"Khối thứ hai đã bị thay đổi\"\n",
    "blockchain[1].hash = blockchain[1].calculate_hash()\n",
    "\n",
    "# In lại chuỗi khối để thấy sự ảnh hưởng\n",
    "for i, block in enumerate(blockchain):\n",
    "    print(f\"Block {i + 1}:\\n{block}\")\n"
   ]
  },
  {
   "cell_type": "markdown",
   "id": "7098c8a8",
   "metadata": {},
   "source": [
    "# Bài 2 Viết chương trình Python nhập một chuỗi bất kỳ (ví dụ: \"Học phần Mạng máy tính\") và tính mã băm (hash)bằng SHA-256. Sau đó, thay đổi một ký tự và quan sát sự thay đổi mã băm (hash)"
   ]
  },
  {
   "cell_type": "code",
   "execution_count": 2,
   "id": "bb6cc042",
   "metadata": {},
   "outputs": [
    {
     "name": "stdout",
     "output_type": "stream",
     "text": [
      "Chuỗi ban đầu: Học phần Mạng máy tính\n",
      "Hash: 65c684ecb5b1be63ed30fed125ee8ac1842cdc1b87f32a0772309f174608b2b2\n",
      "\n",
      "Chuỗi đã thay đổi: Học phần mạng máy tính\n",
      "Hash: 1e357c2d41854f79edcc70d4ee1c567ab9f14e3cc67eb25feda6b7652d49c42b\n"
     ]
    }
   ],
   "source": [
    "import hashlib\n",
    "\n",
    "def sha256_hash(text):\n",
    "    return hashlib.sha256(text.encode()).hexdigest()\n",
    "\n",
    "original_text = \"Học phần Mạng máy tính\"\n",
    "modified_text = \"Học phần mạng máy tính\"  # Chỉ thay đổi chữ 'M' thành 'm'\n",
    "\n",
    "hash1 = sha256_hash(original_text)\n",
    "hash2 = sha256_hash(modified_text)\n",
    "\n",
    "print(f\"Chuỗi ban đầu: {original_text}\")\n",
    "print(f\"Hash: {hash1}\\n\")\n",
    "\n",
    "print(f\"Chuỗi đã thay đổi: {modified_text}\")\n",
    "print(f\"Hash: {hash2}\")\n"
   ]
  }
 ],
 "metadata": {
  "kernelspec": {
   "display_name": "base",
   "language": "python",
   "name": "python3"
  },
  "language_info": {
   "codemirror_mode": {
    "name": "ipython",
    "version": 3
   },
   "file_extension": ".py",
   "mimetype": "text/x-python",
   "name": "python",
   "nbconvert_exporter": "python",
   "pygments_lexer": "ipython3",
   "version": "3.12.7"
  }
 },
 "nbformat": 4,
 "nbformat_minor": 5
}
